{
 "cells": [
  {
   "cell_type": "code",
   "execution_count": 3,
   "metadata": {},
   "outputs": [],
   "source": [
    "import numpy as np\n",
    "from python_bash_code import file_crop_beat\n",
    "import time\n",
    "import librosa.display\n",
    "import matplotlib.pyplot as plt\n",
    "import IPython.display as ipd\n",
    "from libfmp.b.b_plot import plot_signal, plot_chromagram\n",
    "from libfmp.c3.c3s2_dtw_plot import plot_matrix_with_points\n",
    "from synctoolbox.feature.utils import estimate_tuning\n",
    "from synctoolbox.feature.pitch_onset import audio_to_pitch_onset_features\n",
    "from synctoolbox.feature.dlnco import pitch_onset_features_to_DLNCO\n",
    "from synctoolbox.feature.pitch import audio_to_pitch_features\n",
    "from synctoolbox.feature.chroma import pitch_to_chroma, quantize_chroma\n",
    "from synctoolbox.feature.chroma import quantized_chroma_to_CENS\n",
    "from synctoolbox.dtw.utils import compute_optimal_chroma_shift\n",
    "from synctoolbox.dtw.utils import shift_chroma_vectors\n",
    "from synctoolbox.dtw.mrmsdtw import sync_via_mrmsdtw\n",
    "from synctoolbox.dtw.utils import make_path_strictly_monotonic\n",
    "\n",
    "import pandas as pd\n",
    "import scipy\n",
    "from synctoolbox.dtw.utils import evaluate_synchronized_positions\n",
    "header_name = [\"time\",\"beat\"]\n",
    "\n",
    "\n",
    "from synctoolbox.dtw.core import compute_warping_path\n",
    "from synctoolbox.dtw.cost import cosine_distance"
   ]
  },
  {
   "cell_type": "code",
   "execution_count": 4,
   "metadata": {},
   "outputs": [],
   "source": [
    "def get_features_from_audio(audio, tuning_offset, visualize=True):\n",
    "    f_pitch = audio_to_pitch_features(f_audio=audio, Fs=Fs, tuning_offset=tuning_offset, feature_rate=feature_rate)\n",
    "    f_chroma = pitch_to_chroma(f_pitch=f_pitch)\n",
    "    f_chroma_quantized = quantize_chroma(f_chroma=f_chroma)\n",
    "\n",
    "    f_pitch_onset = audio_to_pitch_onset_features(f_audio=audio, Fs=Fs, tuning_offset=tuning_offset)\n",
    "    f_DLNCO = pitch_onset_features_to_DLNCO(f_peaks=f_pitch_onset, feature_rate=feature_rate, feature_sequence_length=f_chroma_quantized.shape[1])\n",
    "    return f_chroma_quantized, f_DLNCO"
   ]
  },
  {
   "cell_type": "code",
   "execution_count": 5,
   "metadata": {},
   "outputs": [],
   "source": [
    "#Parameters\n",
    "#147.1 and 329.1 bars correctly anotated \n",
    "\n",
    "Fs = 22050\n",
    "beat_start = 147.1\n",
    "beat_stop = 210.1\n",
    "feature_rate = 25\n",
    "step_weights = np.array([1.5, 1.5, 2.0]) #DTW step weights (up, left and diagonal)\n",
    "threshold_rec = 10 ** 6 \n",
    "\n",
    "#Croping or saving the alignement\n",
    "crop = False\n",
    "save = True\n",
    "compare = True"
   ]
  },
  {
   "cell_type": "code",
   "execution_count": 6,
   "metadata": {},
   "outputs": [],
   "source": [
    "audio_path_ref = \"/home/osboxes/automatic_alignement/data_sync_experiment/1965_Bernstein_Mahler_IX-1\"\n",
    "audio_path_align = \"/home/osboxes/automatic_alignement/data_sync_experiment/2003_Gielen_Mahler_IX-1\"\n",
    "\n",
    "file_path_ref = \"/home/osboxes/automatic_alignement/data_sync_experiment/1965_Bernstein_Mahler_IX-1_bpb_147-329\"\n",
    "file_path_align = \"/home/osboxes/automatic_alignement/data_sync_experiment/2003_Gielen_Mahler_IX-1_bpb_CU_final_updated_22-11-2021\""
   ]
  },
  {
   "cell_type": "code",
   "execution_count": 7,
   "metadata": {},
   "outputs": [],
   "source": [
    "if crop :\n",
    "    file_crop_beat(beat_start = beat_start, beat_stop = beat_stop, data_path = file_path_ref+'.txt', audio_path = audio_path_ref+'.mp3')\n",
    "    file_crop_beat(beat_start = beat_start, beat_stop = beat_stop, data_path = file_path_align+'.txt', audio_path = audio_path_align+'.mp3')"
   ]
  },
  {
   "cell_type": "code",
   "execution_count": 8,
   "metadata": {},
   "outputs": [
    {
     "name": "stdout",
     "output_type": "stream",
     "text": [
      "................................................................................................................................................................................................................................................................................................................................................................"
     ]
    }
   ],
   "source": [
    "audio_ref, _ = librosa.load(audio_path_ref + \"_s\"+str(beat_start)+\"_e\"+str(beat_stop)+\".wav\", Fs)\n",
    "audio_align, _ = librosa.load(audio_path_align +\"_s\"+str(beat_start)+\"_e\"+str(beat_stop)+\".wav\", Fs)\n",
    "\n",
    "tuning_offset_ref = estimate_tuning(audio_ref, Fs)\n",
    "tuning_offset_align = estimate_tuning(audio_align, Fs)\n",
    "\n",
    "f_chroma_quantized_ref, f_DLNCO_ref = get_features_from_audio(audio_ref, tuning_offset_ref)\n",
    "f_chroma_quantized_align, f_DLNCO_align = get_features_from_audio(audio_align, tuning_offset_align)\n",
    "\n",
    "f_cens_1hz_ref = quantized_chroma_to_CENS(f_chroma_quantized_ref, 201, 50, feature_rate)[0]\n",
    "f_cens_1hz_align = quantized_chroma_to_CENS(f_chroma_quantized_align, 201, 50, feature_rate)[0]\n",
    "opt_chroma_shift = compute_optimal_chroma_shift(f_cens_1hz_ref, f_cens_1hz_align)\n",
    "\n",
    "f_chroma_quantized_align = shift_chroma_vectors(f_chroma_quantized_align, opt_chroma_shift)\n",
    "f_DLNCO_align = shift_chroma_vectors(f_DLNCO_align, opt_chroma_shift)\n",
    "\n",
    "wp = sync_via_mrmsdtw(f_chroma1=f_chroma_quantized_ref, f_onset1=f_DLNCO_ref, f_chroma2=f_chroma_quantized_align, f_onset2=f_DLNCO_align, input_feature_rate=feature_rate, step_weights=step_weights, threshold_rec=threshold_rec)"
   ]
  },
  {
   "cell_type": "code",
   "execution_count": 9,
   "metadata": {},
   "outputs": [
    {
     "name": "stdout",
     "output_type": "stream",
     "text": [
      "(4367848,) (4431024,)\n"
     ]
    }
   ],
   "source": [
    "print(audio_align.shape, audio_ref.shape)\n"
   ]
  },
  {
   "cell_type": "code",
   "execution_count": 10,
   "metadata": {},
   "outputs": [],
   "source": [
    "wp2 = make_path_strictly_monotonic(wp)"
   ]
  },
  {
   "cell_type": "code",
   "execution_count": 11,
   "metadata": {},
   "outputs": [
    {
     "name": "stdout",
     "output_type": "stream",
     "text": [
      "Measure transfer from recording 1 to 2 yielded:\n",
      "\n",
      "Mean absolute error (MAE): 85.35ms (standard deviation: 84.03ms)\n",
      "\n",
      "Accuracy of transferred positions at different tolerances:\n",
      "\t\t\tAccuracy\n",
      "################################\n",
      "Tolerance: 10 ms \t11.86 %\n",
      "Tolerance: 20 ms \t23.32 %\n",
      "Tolerance: 30 ms \t31.62 %\n",
      "Tolerance: 40 ms \t38.34 %\n",
      "Tolerance: 50 ms \t41.90 %\n",
      "Tolerance: 60 ms \t49.01 %\n",
      "Tolerance: 70 ms \t55.34 %\n",
      "Tolerance: 80 ms \t59.29 %\n",
      "Tolerance: 90 ms \t64.82 %\n",
      "Tolerance: 100 ms \t68.38 %\n",
      "Tolerance: 150 ms \t83.00 %\n",
      "Tolerance: 250 ms \t94.86 %\n"
     ]
    }
   ],
   "source": [
    "beat_annotations_ref = pd.read_csv(filepath_or_buffer=file_path_ref+\"_s\"+str(beat_start)+\"_e\"+str(beat_stop)+\".csv\",names = header_name)\n",
    "beat_annotations_align = pd.read_csv(filepath_or_buffer=file_path_align+\"_s\"+str(beat_start)+\"_e\"+str(beat_stop)+\".csv\", names = header_name)\n",
    "beat_annotations_align = beat_annotations_align.loc[beat_annotations_align['beat'].isin(beat_annotations_ref['beat'])].reset_index(drop = True) #We make sure that we compare only the same beats \n",
    "\n",
    "\n",
    "beat_positions_ref_transferred_to_align = scipy.interpolate.interp1d(wp2[0]/ feature_rate , wp2[1]/ feature_rate , kind='linear')(beat_annotations_ref[\"time\"])\n",
    "\n",
    "\n",
    "mean_absolute_error, accuracy_at_tolerances = evaluate_synchronized_positions(beat_annotations_align[\"time\"] * 1000, beat_positions_ref_transferred_to_align * 1000)"
   ]
  },
  {
   "cell_type": "code",
   "execution_count": 12,
   "metadata": {},
   "outputs": [],
   "source": [
    "#Saving the Anotation transfered to the aligned audio\n",
    "if save : \n",
    "    beat_position_transfered_ref_to_align = pd.DataFrame(data = beat_positions_ref_transferred_to_align, columns = [\"time\"])\n",
    "    beat_position_transfered_ref_to_align[\"beat\"] = beat_annotations_ref[\"beat\"]\n",
    "    beat_position_transfered_ref_to_align.to_csv('/home/osboxes/automatic_alignement/data_sync_experiment/Comparison_Match_MrMsDTW/MrMsDTW_1965ref_2003_'+str(beat_start)+'_'+str(beat_stop)+'.csv', header = False, index = False)"
   ]
  },
  {
   "cell_type": "code",
   "execution_count": 13,
   "metadata": {},
   "outputs": [
    {
     "name": "stdout",
     "output_type": "stream",
     "text": [
      "Measure transfer from recording 1 to 2 yielded:\n",
      "\n",
      "Mean absolute error (MAE): 4090.12ms (standard deviation: 2060.01ms)\n",
      "\n",
      "Accuracy of transferred positions at different tolerances:\n",
      "\t\t\tAccuracy\n",
      "################################\n",
      "Tolerance: 10 ms \t0.79 %\n",
      "Tolerance: 20 ms \t0.79 %\n",
      "Tolerance: 30 ms \t0.79 %\n",
      "Tolerance: 40 ms \t0.79 %\n",
      "Tolerance: 50 ms \t0.79 %\n",
      "Tolerance: 60 ms \t0.79 %\n",
      "Tolerance: 70 ms \t0.79 %\n",
      "Tolerance: 80 ms \t0.79 %\n",
      "Tolerance: 90 ms \t0.79 %\n",
      "Tolerance: 100 ms \t0.79 %\n",
      "Tolerance: 150 ms \t0.79 %\n",
      "Tolerance: 250 ms \t3.16 %\n"
     ]
    }
   ],
   "source": [
    "#Comparison between ref and Match results\n",
    "\n",
    "if compare :\n",
    "    match_anotation_align = np.loadtxt('/home/osboxes/automatic_alignement/data_sync_experiment/Comparison_Match_MrMsDTW/MATCH_2003ref_1965_'+str(beat_start)+'_'+str(beat_stop)+'.txt',delimiter = ',')\n",
    "    match_anotation_align = np.concatenate((np.array([[0, 0]]), match_anotation_align))\n",
    "    mean_absolute_error, accuracy_at_tolerances = evaluate_synchronized_positions(beat_annotations_align[\"time\"] * 1000, match_anotation_align[:,0] * 1000)"
   ]
  }
 ],
 "metadata": {
  "interpreter": {
   "hash": "75f0077083520d2d5a49127605b4de49a6c41c2d1a8070cd46763bb16daf7b2e"
  },
  "kernelspec": {
   "display_name": "Python 3.8.12 64-bit ('sdia-python': conda)",
   "language": "python",
   "name": "python3"
  },
  "language_info": {
   "codemirror_mode": {
    "name": "ipython",
    "version": 3
   },
   "file_extension": ".py",
   "mimetype": "text/x-python",
   "name": "python",
   "nbconvert_exporter": "python",
   "pygments_lexer": "ipython3",
   "version": "3.8.12"
  },
  "orig_nbformat": 4
 },
 "nbformat": 4,
 "nbformat_minor": 2
}
