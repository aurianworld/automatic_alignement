{
 "cells": [
  {
   "cell_type": "code",
   "execution_count": 1,
   "metadata": {},
   "outputs": [],
   "source": [
    "import numpy as np\n",
    "from Utilities.file_crop_beat import file_crop_beat\n",
    "import time\n",
    "import librosa.display\n",
    "import matplotlib.pyplot as plt\n",
    "import IPython.display as ipd\n",
    "from libfmp.b.b_plot import plot_signal, plot_chromagram\n",
    "from libfmp.c3.c3s2_dtw_plot import plot_matrix_with_points\n",
    "from synctoolbox.feature.utils import estimate_tuning\n",
    "from synctoolbox.feature.pitch_onset import audio_to_pitch_onset_features\n",
    "from synctoolbox.feature.dlnco import pitch_onset_features_to_DLNCO\n",
    "from synctoolbox.feature.pitch import audio_to_pitch_features\n",
    "from synctoolbox.feature.chroma import pitch_to_chroma, quantize_chroma\n",
    "from synctoolbox.feature.chroma import quantized_chroma_to_CENS\n",
    "from synctoolbox.dtw.utils import compute_optimal_chroma_shift\n",
    "from synctoolbox.dtw.utils import shift_chroma_vectors\n",
    "from synctoolbox.dtw.mrmsdtw import sync_via_mrmsdtw\n",
    "from synctoolbox.dtw.utils import make_path_strictly_monotonic\n",
    "\n",
    "import pandas as pd\n",
    "import scipy\n",
    "from synctoolbox.dtw.utils import evaluate_synchronized_positions\n",
    "header_name = [\"time\",\"beat\"]\n",
    "\n",
    "\n",
    "from synctoolbox.dtw.core import compute_warping_path\n",
    "from synctoolbox.dtw.cost import cosine_distance"
   ]
  },
  {
   "cell_type": "code",
   "execution_count": 2,
   "metadata": {},
   "outputs": [],
   "source": [
    "def get_features_from_audio(audio, tuning_offset, visualize=True):\n",
    "    f_pitch = audio_to_pitch_features(f_audio=audio, Fs=Fs, tuning_offset=tuning_offset, feature_rate=feature_rate)\n",
    "    print('shape pitch features',f_pitch.shape)\n",
    "    f_chroma = pitch_to_chroma(f_pitch=f_pitch)\n",
    "    f_chroma_quantized = quantize_chroma(f_chroma=f_chroma)\n",
    "\n",
    "    f_pitch_onset = audio_to_pitch_onset_features(f_audio=audio, Fs=Fs, tuning_offset=tuning_offset)\n",
    "    print('shape pitch onset features: ', len(f_pitch_onset))\n",
    "    f_DLNCO = pitch_onset_features_to_DLNCO(f_peaks=f_pitch_onset, feature_rate=feature_rate, feature_sequence_length=f_chroma_quantized.shape[1])\n",
    "    return f_chroma_quantized, f_DLNCO"
   ]
  },
  {
   "cell_type": "code",
   "execution_count": 3,
   "metadata": {},
   "outputs": [],
   "source": [
    "#Parameters\n",
    "#147.1 and 329.1 bars correctly anotated \n",
    "\n",
    "Fs = 22050\n",
    "beat_start = 147.1\n",
    "beat_stop = 329.1\n",
    "feature_rate = 25\n",
    "step_weights = np.array([1.5, 1.5, 2.0]) #DTW step weights (up, left and diagonal)\n",
    "threshold_rec = 10 ** 6 \n",
    "\n",
    "#Croping or saving the alignement\n",
    "crop = True\n",
    "save = True\n",
    "compare = True"
   ]
  },
  {
   "cell_type": "code",
   "execution_count": 4,
   "metadata": {},
   "outputs": [],
   "source": [
    "audio_path_ref =\"/home/osboxes/Desktop/Dataset/01_Audio/01_Full_Symphonies/2003_Gielen_Mahler_IX-1\" \n",
    "audio_path_align = \"/home/osboxes/Desktop/Dataset/01_Audio/01_Full_Symphonies/1965_Bernstein_Mahler_IX-1\"\n",
    "\n",
    "\n",
    "file_path_ref = \"/home/osboxes/Desktop/Dataset/02_Beat_per_beat_annotation/01_Full_Symphonies/2003_Gielen_Mahler_IX-1_bpb_final\"\n",
    "file_path_align =\"/home/osboxes/Desktop/Dataset/02_Beat_per_beat_annotation/01_Full_Symphonies/1965_Bernstein_Mahler_IX-1_bpb_final\" "
   ]
  },
  {
   "cell_type": "code",
   "execution_count": 5,
   "metadata": {},
   "outputs": [
    {
     "name": "stdout",
     "output_type": "stream",
     "text": [
      "/home/osboxes/Desktop/Dataset/02_Beat_per_beat_annotation/02_Cropped_Symphonies/2003_Gielen_Mahler_IX-1_bpb_final_s147.1_e329.1.txt\n",
      "/home/osboxes/Desktop/Dataset/01_Audio/02_Cropped_Symphonies/2003_Gielen_Mahler_IX-1_s147.1_e329.1.wav\n",
      "Done in : 2.2572407722473145s + 0.08011746406555176s =2.337358236312866\n",
      "/home/osboxes/Desktop/Dataset/02_Beat_per_beat_annotation/02_Cropped_Symphonies/1965_Bernstein_Mahler_IX-1_bpb_final_s147.1_e329.1.txt\n",
      "/home/osboxes/Desktop/Dataset/01_Audio/02_Cropped_Symphonies/1965_Bernstein_Mahler_IX-1_s147.1_e329.1.wav\n",
      "Done in : 2.0302517414093018s + 0.047200679779052734s =2.0774524211883545\n"
     ]
    }
   ],
   "source": [
    "if crop :\n",
    "    file_crop_beat(beat_start = beat_start, beat_stop = beat_stop, data_path = file_path_ref+'.txt', audio_path = audio_path_ref+'.mp3')\n",
    "    file_crop_beat(beat_start = beat_start, beat_stop = beat_stop, data_path = file_path_align+'.txt', audio_path = audio_path_align+'.mp3')"
   ]
  },
  {
   "cell_type": "code",
   "execution_count": 8,
   "metadata": {},
   "outputs": [
    {
     "name": "stdout",
     "output_type": "stream",
     "text": [
      "........................................................................................shape pitch features (128, 4954)\n",
      "........................................................................................shape pitch onset features:  88\n",
      "........................................................................................shape pitch features (128, 5025)\n",
      "........................................................................................shape pitch onset features:  88\n"
     ]
    }
   ],
   "source": [
    "audio_ref, _ = librosa.load(audio_path_ref + \"_s\"+str(beat_start)+\"_e\"+str(beat_stop)+\".wav\", Fs)\n",
    "audio_align, _ = librosa.load(audio_path_align +\"_s\"+str(beat_start)+\"_e\"+str(beat_stop)+\".wav\", Fs)\n",
    "\n",
    "tuning_offset_ref = estimate_tuning(audio_ref, Fs)\n",
    "tuning_offset_align = estimate_tuning(audio_align, Fs)\n",
    "\n",
    "f_chroma_quantized_ref, f_DLNCO_ref = get_features_from_audio(audio_ref, tuning_offset_ref)\n",
    "f_chroma_quantized_align, f_DLNCO_align = get_features_from_audio(audio_align, tuning_offset_align)\n",
    "\n",
    "f_cens_1hz_ref = quantized_chroma_to_CENS(f_chroma_quantized_ref, 201, 50, feature_rate)[0]\n",
    "f_cens_1hz_align = quantized_chroma_to_CENS(f_chroma_quantized_align, 201, 50, feature_rate)[0]\n",
    "opt_chroma_shift = compute_optimal_chroma_shift(f_cens_1hz_ref, f_cens_1hz_align)\n",
    "\n",
    "f_chroma_quantized_align = shift_chroma_vectors(f_chroma_quantized_align, opt_chroma_shift)\n",
    "f_DLNCO_align = shift_chroma_vectors(f_DLNCO_align, opt_chroma_shift)\n",
    "\n",
    "wp = sync_via_mrmsdtw(f_chroma1=f_chroma_quantized_ref, f_onset1=f_DLNCO_ref, f_chroma2=f_chroma_quantized_align, f_onset2=f_DLNCO_align, input_feature_rate=feature_rate, step_weights=step_weights, threshold_rec=threshold_rec)"
   ]
  },
  {
   "cell_type": "code",
   "execution_count": 9,
   "metadata": {},
   "outputs": [
    {
     "data": {
      "text/plain": [
       "(12, 4954)"
      ]
     },
     "execution_count": 9,
     "metadata": {},
     "output_type": "execute_result"
    }
   ],
   "source": [
    "f_chroma_quantized_ref.shape"
   ]
  },
  {
   "cell_type": "code",
   "execution_count": 10,
   "metadata": {},
   "outputs": [
    {
     "name": "stdout",
     "output_type": "stream",
     "text": [
      "(4431024,) (4367848,)\n"
     ]
    }
   ],
   "source": [
    "print(audio_align.shape, audio_ref.shape)\n"
   ]
  },
  {
   "cell_type": "code",
   "execution_count": 11,
   "metadata": {},
   "outputs": [],
   "source": [
    "wp2 = make_path_strictly_monotonic(wp)"
   ]
  },
  {
   "cell_type": "code",
   "execution_count": 20,
   "metadata": {},
   "outputs": [
    {
     "data": {
      "text/plain": [
       "Text(0.5, 1.0, 'Strictly monotonic WP')"
      ]
     },
     "execution_count": 20,
     "metadata": {},
     "output_type": "execute_result"
    },
    {
     "data": {
      "image/png": "[encoded data removed]",
      "text/plain": [
       "<Figure size 576x288 with 2 Axes>"
      ]
     },
     "metadata": {
      "needs_background": "light"
     },
     "output_type": "display_data"
    }
   ],
   "source": [
    "plt.figure(figsize=(8,4))\n",
    "\n",
    "plt.subplot(1,2,1)\n",
    "plt.plot(wp[0][0:20],wp[1][0:20],'o')\n",
    "plt.xlabel('Reference')\n",
    "plt.ylabel('Aligned file')\n",
    "plt.title('Not strictly monotonic WP')\n",
    "\n",
    "plt.subplot(1,2,2)\n",
    "plt.plot(wp2[0][0:15],wp2[1][0:15],'o')\n",
    "plt.xlabel('Reference')\n",
    "plt.ylabel('Aligned file')\n",
    "plt.title('Strictly monotonic WP')"
   ]
  },
  {
   "cell_type": "code",
   "execution_count": 9,
   "metadata": {},
   "outputs": [
    {
     "name": "stdout",
     "output_type": "stream",
     "text": [
      "198.12\n",
      "200.96\n"
     ]
    }
   ],
   "source": [
    "print(wp2[0][-1]/feature_rate)\n",
    "print(wp2[1][-1]/feature_rate) "
   ]
  },
  {
   "cell_type": "code",
   "execution_count": 10,
   "metadata": {},
   "outputs": [
    {
     "name": "stdout",
     "output_type": "stream",
     "text": [
      "Measure transfer from recording 1 to 2 yielded:\n",
      "\n",
      "Mean absolute error (MAE): 84.84ms (standard deviation: 85.36ms)\n",
      "\n",
      "Accuracy of transferred positions at different tolerances:\n",
      "\t\t\tAccuracy\n",
      "################################\n",
      "Tolerance: 10 ms \t10.67 %\n",
      "Tolerance: 20 ms \t24.11 %\n",
      "Tolerance: 30 ms \t33.20 %\n",
      "Tolerance: 40 ms \t39.13 %\n",
      "Tolerance: 50 ms \t45.06 %\n",
      "Tolerance: 60 ms \t50.20 %\n",
      "Tolerance: 70 ms \t55.73 %\n",
      "Tolerance: 80 ms \t58.50 %\n",
      "Tolerance: 90 ms \t64.03 %\n",
      "Tolerance: 100 ms \t67.98 %\n",
      "Tolerance: 150 ms \t82.61 %\n",
      "Tolerance: 250 ms \t94.86 %\n"
     ]
    }
   ],
   "source": [
    "beat_annotations_ref = pd.read_csv(filepath_or_buffer=file_path_ref+\"_s\"+str(beat_start)+\"_e\"+str(beat_stop)+\".csv\",names = header_name)\n",
    "beat_annotations_align = pd.read_csv(filepath_or_buffer=file_path_align+\"_s\"+str(beat_start)+\"_e\"+str(beat_stop)+\".csv\", names = header_name)\n",
    "beat_annotations_align = beat_annotations_align.loc[beat_annotations_align['beat'].isin(beat_annotations_ref['beat'])].reset_index(drop = True) #We make sure that we compare only the same beats \n",
    "\n",
    "\n",
    "beat_positions_ref_transferred_to_align = scipy.interpolate.interp1d(wp2[0]/ feature_rate , wp2[1]/ feature_rate , kind='linear')(beat_annotations_ref[\"time\"])\n",
    "\n",
    "\n",
    "mean_absolute_error, accuracy_at_tolerances = evaluate_synchronized_positions(beat_annotations_align[\"time\"] * 1000, beat_positions_ref_transferred_to_align * 1000)"
   ]
  },
  {
   "cell_type": "code",
   "execution_count": 11,
   "metadata": {},
   "outputs": [],
   "source": [
    "#Saving the Anotation transfered to the aligned audio\n",
    "if save : \n",
    "    beat_position_transfered_ref_to_align = pd.DataFrame(data = beat_positions_ref_transferred_to_align, columns = [\"time\"])\n",
    "    beat_position_transfered_ref_to_align[\"beat\"] = beat_annotations_ref[\"beat\"]\n",
    "    beat_position_transfered_ref_to_align.to_csv('/home/osboxes/Desktop/Dataset/06_Transfered_Annotation/02_MsMrDTW/2003-1965_'+str(beat_start)+'_'+str(beat_stop)+'.csv', header = False, index = False)"
   ]
  },
  {
   "cell_type": "code",
   "execution_count": 12,
   "metadata": {},
   "outputs": [
    {
     "name": "stdout",
     "output_type": "stream",
     "text": [
      "Measure transfer from recording 1 to 2 yielded:\n",
      "\n",
      "Mean absolute error (MAE): 119.74ms (standard deviation: 117.29ms)\n",
      "\n",
      "Accuracy of transferred positions at different tolerances:\n",
      "\t\t\tAccuracy\n",
      "################################\n",
      "Tolerance: 10 ms \t7.91 %\n",
      "Tolerance: 20 ms \t15.42 %\n",
      "Tolerance: 30 ms \t20.55 %\n",
      "Tolerance: 40 ms \t28.46 %\n",
      "Tolerance: 50 ms \t33.60 %\n",
      "Tolerance: 60 ms \t38.74 %\n",
      "Tolerance: 70 ms \t42.29 %\n",
      "Tolerance: 80 ms \t46.25 %\n",
      "Tolerance: 90 ms \t50.20 %\n",
      "Tolerance: 100 ms \t56.13 %\n",
      "Tolerance: 150 ms \t70.36 %\n",
      "Tolerance: 250 ms \t88.14 %\n"
     ]
    }
   ],
   "source": [
    "#Comparison between ref and Match results\n",
    "\n",
    "if compare :\n",
    "    match_anotation_align = np.loadtxt('/home/osboxes/automatic_alignement/data_sync_experiment/Comparison_Match_MrMsDTW/MATCH_2003ref_1965_'+str(beat_start)+'_'+str(beat_stop)+'.txt',delimiter = ',')\n",
    "    match_anotation_align = np.concatenate((np.array([[0, 0]]), match_anotation_align))\n",
    "    mean_absolute_error, accuracy_at_tolerances = evaluate_synchronized_positions(beat_annotations_align[\"time\"] * 1000, match_anotation_align[:,0] * 1000)"
   ]
  }
 ],
 "metadata": {
  "interpreter": {
   "hash": "75f0077083520d2d5a49127605b4de49a6c41c2d1a8070cd46763bb16daf7b2e"
  },
  "kernelspec": {
   "display_name": "Python 3.8.12 64-bit ('sdia-python': conda)",
   "language": "python",
   "name": "python3"
  },
  "language_info": {
   "codemirror_mode": {
    "name": "ipython",
    "version": 3
   },
   "file_extension": ".py",
   "mimetype": "text/x-python",
   "name": "python",
   "nbconvert_exporter": "python",
   "pygments_lexer": "ipython3",
   "version": "3.8.12"
  },
  "orig_nbformat": 4
 },
 "nbformat": 4,
 "nbformat_minor": 2
}
