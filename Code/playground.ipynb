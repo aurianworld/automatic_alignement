{
 "cells": [
  {
   "cell_type": "code",
   "execution_count": 45,
   "metadata": {},
   "outputs": [],
   "source": [
    "import os\n",
    "import numpy as np\n",
    "from numpy import genfromtxt"
   ]
  },
  {
   "cell_type": "code",
   "execution_count": 46,
   "metadata": {},
   "outputs": [],
   "source": [
    "dirpath = \"/home/osboxes/Data/beat-per-beat/_data/processed/Regular Beat/\"\n",
    "ext = ('.csv')\n",
    "header = ['time','beat','diff']"
   ]
  },
  {
   "cell_type": "code",
   "execution_count": 48,
   "metadata": {},
   "outputs": [],
   "source": [
    "for file_1 in os.listdir(dirpath):\n",
    "    if file_1.endswith(ext):\n",
    "\n",
    "        np_file_1 =genfromtxt(dirpath+file_1, delimiter=',')\n",
    "\n",
    "        for file_2 in os.listdir(dirpath):\n",
    "            if file_2.endswith(ext) and file_1 != file_2 :\n",
    "\n",
    "                np_file_2 =genfromtxt(dirpath+file_2, delimiter=',')\n",
    "\n",
    "                common_beat = np.intersect1d(np_file_1[:,1],np_file_2[:,1])\n",
    "\n",
    "                np.savetxt(dirpath+'/common_beat/'+file_1[:35]+'__and__'+file_2[:35]+'_commonn_beat.txt', common_beat,fmt='%.1f', delimiter=\",\")\n",
    "                \n"
   ]
  }
 ],
 "metadata": {
  "interpreter": {
   "hash": "75f0077083520d2d5a49127605b4de49a6c41c2d1a8070cd46763bb16daf7b2e"
  },
  "kernelspec": {
   "display_name": "Python 3.8.12 64-bit ('sdia-python': conda)",
   "language": "python",
   "name": "python3"
  },
  "language_info": {
   "codemirror_mode": {
    "name": "ipython",
    "version": 3
   },
   "file_extension": ".py",
   "mimetype": "text/x-python",
   "name": "python",
   "nbconvert_exporter": "python",
   "pygments_lexer": "ipython3",
   "version": "3.8.12"
  },
  "orig_nbformat": 4
 },
 "nbformat": 4,
 "nbformat_minor": 2
}
